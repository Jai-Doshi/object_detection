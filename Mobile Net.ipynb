{
 "cells": [
  {
   "cell_type": "code",
   "execution_count": 1,
   "id": "c0819c5a",
   "metadata": {},
   "outputs": [],
   "source": [
    "import cv2\n",
    "import matplotlib.pyplot as plt"
   ]
  },
  {
   "cell_type": "code",
   "execution_count": 2,
   "id": "27a2efa7",
   "metadata": {},
   "outputs": [],
   "source": [
    "config_file = 'ssd_mobilenet_v3_large_coco_2020_01_14.pbtxt'\n",
    "frozen_model = 'frozen_inference_graph.pb'"
   ]
  },
  {
   "cell_type": "code",
   "execution_count": 3,
   "id": "ccfc307f",
   "metadata": {},
   "outputs": [],
   "source": [
    "model = cv2.dnn_DetectionModel(frozen_model, config_file)"
   ]
  },
  {
   "cell_type": "code",
   "execution_count": 4,
   "id": "c3647aa5",
   "metadata": {},
   "outputs": [
    {
     "name": "stdout",
     "output_type": "stream",
     "text": [
      "Length :- 80 \n",
      "Labels :- ['person', 'bicycle', 'car', 'motorbike', 'aeroplane', 'bus', 'train', 'truck', 'boat', 'traffic light', 'fire hydrant', 'stop sign', 'parking meter', 'bench', 'bird', 'cat', 'dog', 'horse', 'sheep', 'cow', 'elephant', 'bear', 'zebra', 'giraffe', 'backpack', 'umbrella', 'handbag', 'tie', 'suitcase', 'frisbee', 'skis', 'snowboard', 'sports ball', 'kite', 'baseball bat', 'baseball glove', 'skateboard', 'surfboard', 'tennis racket', 'bottle', 'wine glass', 'cup', 'fork', 'knife', 'spoon', 'bowl', 'banana', 'apple', 'sandwich', 'orange', 'broccoli', 'carrot', 'hot dog', 'pizza', 'donut', 'cake', 'chair', 'sofa', 'pottedplant', 'bed', 'diningtable', 'toilet', 'tvmonitor', 'laptop', 'mouse', 'remote', 'keyboard', 'cell phone', 'microwave', 'oven', 'toaster', 'sink', 'refrigerator', 'book', 'clock', 'vase', 'scissors', 'teddy bear', 'hair drier', 'toothbrush']\n"
     ]
    }
   ],
   "source": [
    "classLabels = []\n",
    "file_name = 'coco.names'\n",
    "with open(file_name, 'rt') as fpt:\n",
    "    classLabels = fpt.read().rstrip('\\n').split('\\n')\n",
    "    \n",
    "print('Length :- {} \\nLabels :- {}'.format(len(classLabels), classLabels))"
   ]
  },
  {
   "cell_type": "code",
   "execution_count": 5,
   "id": "bedb1993",
   "metadata": {},
   "outputs": [
    {
     "data": {
      "text/plain": [
       "<dnn_Model 000002048E302F50>"
      ]
     },
     "execution_count": 5,
     "metadata": {},
     "output_type": "execute_result"
    }
   ],
   "source": [
    "model.setInputSize(320, 320)\n",
    "model.setInputScale(1.0 / 127.5)\n",
    "model.setInputMean((127.5, 127.5, 127.5))\n",
    "model.setInputSwapRB(True)"
   ]
  },
  {
   "cell_type": "code",
   "execution_count": 8,
   "id": "ef30d5c8",
   "metadata": {},
   "outputs": [],
   "source": [
    "# Image\n",
    "\n",
    "img = cv2.imread('Images/car.jpg')\n",
    "\n",
    "ClassIndex, confidence, bbox = model.detect(img, confThreshold=0.5)\n",
    "\n",
    "font_scale = 2\n",
    "font = cv2.FONT_HERSHEY_TRIPLEX\n",
    "for ClassInd, conf, boxes in zip(ClassIndex.flatten(), confidence.flatten(), bbox):\n",
    "    cv2.rectangle(img, boxes, (255, 0, 255), 10)\n",
    "    cv2.putText(img, classLabels[ClassInd - 1].capitalize(), (boxes[0]+10, boxes[1]+60), font, fontScale = font_scale, color=(255,255,0), thickness=2)\n",
    "    \n",
    "# plt.figure(figsize = (20, 20))\n",
    "# plt.imshow(cv2.cvtColor(img, cv2.COLOR_BGR2RGB))\n",
    "# img = cv2.resize(img, (1200, 600))\n",
    "cv2.imshow('Detected Image', img)\n",
    "cv2.waitKey(0)\n",
    "cv2.destroyAllWindows()\n"
   ]
  },
  {
   "cell_type": "code",
   "execution_count": 9,
   "id": "ded6baa4",
   "metadata": {},
   "outputs": [],
   "source": [
    "# Video\n",
    "\n",
    "cap = cv2.VideoCapture('Videos/multi_face.mp4')\n",
    "\n",
    "if not cap.isOpened():\n",
    "    cap = cv2.VideoCapture(0)\n",
    "if not cap.isOpened():\n",
    "    raise IOError('Cannot Open Video')\n",
    "    \n",
    "font_scale = 2\n",
    "font = cv2.FONT_HERSHEY_TRIPLEX\n",
    "\n",
    "while True:\n",
    "    ret, frame = cap.read()\n",
    "    \n",
    "    ClassIndex, confidence, bbox = model.detect(frame, confThreshold=0.5)\n",
    "    \n",
    "    if(len(ClassIndex) != 0):\n",
    "        for ClassInd, conf, boxes in zip(ClassIndex.flatten(), confidence.flatten(), bbox):\n",
    "            if(ClassInd <= 80):\n",
    "                cv2.rectangle(frame, boxes, (255, 0, 255), 10)\n",
    "                cv2.putText(frame, classLabels[ClassInd - 1].capitalize(), (boxes[0]+10, boxes[1]+60), font, fontScale = font_scale, color=(255,255,0), thickness=2)\n",
    "    \n",
    "    cv2.imshow('Detected Video', frame)\n",
    "    \n",
    "    if cv2.waitKey(2) & 0xFF == ord('q'):\n",
    "        break\n",
    "        \n",
    "cap.release()\n",
    "cv2.destroyAllWindows()\n"
   ]
  },
  {
   "cell_type": "code",
   "execution_count": null,
   "id": "e9d71d71",
   "metadata": {},
   "outputs": [],
   "source": []
  }
 ],
 "metadata": {
  "kernelspec": {
   "display_name": "Python 3 (ipykernel)",
   "language": "python",
   "name": "python3"
  },
  "language_info": {
   "codemirror_mode": {
    "name": "ipython",
    "version": 3
   },
   "file_extension": ".py",
   "mimetype": "text/x-python",
   "name": "python",
   "nbconvert_exporter": "python",
   "pygments_lexer": "ipython3",
   "version": "3.10.4"
  }
 },
 "nbformat": 4,
 "nbformat_minor": 5
}
